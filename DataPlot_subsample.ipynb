{
 "cells": [
  {
   "cell_type": "code",
   "execution_count": 18,
   "metadata": {},
   "outputs": [],
   "source": [
    "import numpy as np\n",
    "import pandas as pd\n",
    "import os\n",
    "from matplotlib import pyplot as plt\n",
    "import matplotlib.ticker\n",
    "import matplotlib.dates\n",
    "from datetime import datetime\n"
   ]
  },
  {
   "cell_type": "code",
   "execution_count": 19,
   "metadata": {},
   "outputs": [
    {
     "data": {
      "text/plain": [
       "'/Users/jaewanpark/Desktop'"
      ]
     },
     "execution_count": 19,
     "metadata": {},
     "output_type": "execute_result"
    }
   ],
   "source": [
    "os.getcwd()"
   ]
  },
  {
   "cell_type": "code",
   "execution_count": 22,
   "metadata": {},
   "outputs": [
    {
     "data": {
      "text/html": [
       "<div>\n",
       "<style scoped>\n",
       "    .dataframe tbody tr th:only-of-type {\n",
       "        vertical-align: middle;\n",
       "    }\n",
       "\n",
       "    .dataframe tbody tr th {\n",
       "        vertical-align: top;\n",
       "    }\n",
       "\n",
       "    .dataframe thead th {\n",
       "        text-align: right;\n",
       "    }\n",
       "</style>\n",
       "<table border=\"1\" class=\"dataframe\">\n",
       "  <thead>\n",
       "    <tr style=\"text-align: right;\">\n",
       "      <th></th>\n",
       "      <th>Type</th>\n",
       "      <th>Event</th>\n",
       "      <th>Description</th>\n",
       "      <th>Resources</th>\n",
       "    </tr>\n",
       "    <tr>\n",
       "      <th>Date</th>\n",
       "      <th></th>\n",
       "      <th></th>\n",
       "      <th></th>\n",
       "      <th></th>\n",
       "    </tr>\n",
       "  </thead>\n",
       "  <tbody>\n",
       "    <tr>\n",
       "      <th>2009-04-05</th>\n",
       "      <td>Missile Provocation</td>\n",
       "      <td>Satellite Launch (Other Provocation)</td>\n",
       "      <td>North Korea launched the Kwangmyongsong-2 sate...</td>\n",
       "      <td>http://www.washingtonpost.com/wp-dyn/content/a...</td>\n",
       "    </tr>\n",
       "    <tr>\n",
       "      <th>2009-05-25</th>\n",
       "      <td>Nuclear Provocation</td>\n",
       "      <td>Nuclear Test / Short-range missile launch</td>\n",
       "      <td>North Korea conducted its second nuclear test ...</td>\n",
       "      <td>https://www.whitehouse.gov/the-press-office/st...</td>\n",
       "    </tr>\n",
       "    <tr>\n",
       "      <th>2009-05-26</th>\n",
       "      <td>Missile Provocation</td>\n",
       "      <td>Short-range Missile Launch</td>\n",
       "      <td>North Korea launched 3 surface-to-ship missile...</td>\n",
       "      <td>http://www.mnd.go.kr/user/mnd_eng/upload/pblic...</td>\n",
       "    </tr>\n",
       "    <tr>\n",
       "      <th>2009-05-27</th>\n",
       "      <td>Missile Provocation</td>\n",
       "      <td>Short-range Missile Launch</td>\n",
       "      <td>North Korea test-fired 2 short-range missiles.</td>\n",
       "      <td>http://www.mnd.go.kr/user/mnd/upload/pblictn/P...</td>\n",
       "    </tr>\n",
       "    <tr>\n",
       "      <th>2009-05-29</th>\n",
       "      <td>Missile Provocation</td>\n",
       "      <td>Short-range Missile Launch</td>\n",
       "      <td>North Korea launched a surface-to-air missile.</td>\n",
       "      <td>http://www.mnd.go.kr/user/mnd_eng/upload/pblic...</td>\n",
       "    </tr>\n",
       "    <tr>\n",
       "      <th>...</th>\n",
       "      <td>...</td>\n",
       "      <td>...</td>\n",
       "      <td>...</td>\n",
       "      <td>...</td>\n",
       "    </tr>\n",
       "    <tr>\n",
       "      <th>2020-03-02</th>\n",
       "      <td>Missile Provocation</td>\n",
       "      <td>Short-range Missile Launch</td>\n",
       "      <td>On March 2, 2020 at 12:37pm (KST), North Korea...</td>\n",
       "      <td>https://en.yna.co.kr/view/AEN20200302005254325...</td>\n",
       "    </tr>\n",
       "    <tr>\n",
       "      <th>2020-03-06</th>\n",
       "      <td>Missile Provocation</td>\n",
       "      <td>Short-range Missile Launch</td>\n",
       "      <td>On March 9. 2020 at 7:36am (KST), North Korea ...</td>\n",
       "      <td>https://en.yna.co.kr/view/AEN20200309000455325</td>\n",
       "    </tr>\n",
       "    <tr>\n",
       "      <th>2020-03-21</th>\n",
       "      <td>Missile Provocation</td>\n",
       "      <td>Short-range Missile Launch</td>\n",
       "      <td>On March 21, 2020 at 6:45am and 6:50pm (KST), ...</td>\n",
       "      <td>https://en.yna.co.kr/view/AEN20200321000454325...</td>\n",
       "    </tr>\n",
       "    <tr>\n",
       "      <th>2020-04-14</th>\n",
       "      <td>Missile Provocation</td>\n",
       "      <td>Short-range Missile Launch</td>\n",
       "      <td>On April 14, 2020 at 7:00am (KST), North Korea...</td>\n",
       "      <td>https://en.yna.co.kr/view/AEN20200414006452325...</td>\n",
       "    </tr>\n",
       "    <tr>\n",
       "      <th>2020-06-16</th>\n",
       "      <td>Other Provocation</td>\n",
       "      <td>Explosion at inter-Korean joint liaison office</td>\n",
       "      <td>On June 16, 2020, North Korea set off an explo...</td>\n",
       "      <td>https://en.yna.co.kr/view/AEN20200616008253325...</td>\n",
       "    </tr>\n",
       "  </tbody>\n",
       "</table>\n",
       "<p>126 rows × 4 columns</p>\n",
       "</div>"
      ],
      "text/plain": [
       "                           Type  \\\n",
       "Date                              \n",
       "2009-04-05  Missile Provocation   \n",
       "2009-05-25  Nuclear Provocation   \n",
       "2009-05-26  Missile Provocation   \n",
       "2009-05-27  Missile Provocation   \n",
       "2009-05-29  Missile Provocation   \n",
       "...                         ...   \n",
       "2020-03-02  Missile Provocation   \n",
       "2020-03-06  Missile Provocation   \n",
       "2020-03-21  Missile Provocation   \n",
       "2020-04-14  Missile Provocation   \n",
       "2020-06-16    Other Provocation   \n",
       "\n",
       "                                                     Event  \\\n",
       "Date                                                         \n",
       "2009-04-05            Satellite Launch (Other Provocation)   \n",
       "2009-05-25       Nuclear Test / Short-range missile launch   \n",
       "2009-05-26                      Short-range Missile Launch   \n",
       "2009-05-27                      Short-range Missile Launch   \n",
       "2009-05-29                      Short-range Missile Launch   \n",
       "...                                                    ...   \n",
       "2020-03-02                      Short-range Missile Launch   \n",
       "2020-03-06                      Short-range Missile Launch   \n",
       "2020-03-21                      Short-range Missile Launch   \n",
       "2020-04-14                      Short-range Missile Launch   \n",
       "2020-06-16  Explosion at inter-Korean joint liaison office   \n",
       "\n",
       "                                                  Description  \\\n",
       "Date                                                            \n",
       "2009-04-05  North Korea launched the Kwangmyongsong-2 sate...   \n",
       "2009-05-25  North Korea conducted its second nuclear test ...   \n",
       "2009-05-26  North Korea launched 3 surface-to-ship missile...   \n",
       "2009-05-27     North Korea test-fired 2 short-range missiles.   \n",
       "2009-05-29     North Korea launched a surface-to-air missile.   \n",
       "...                                                       ...   \n",
       "2020-03-02  On March 2, 2020 at 12:37pm (KST), North Korea...   \n",
       "2020-03-06  On March 9. 2020 at 7:36am (KST), North Korea ...   \n",
       "2020-03-21  On March 21, 2020 at 6:45am and 6:50pm (KST), ...   \n",
       "2020-04-14  On April 14, 2020 at 7:00am (KST), North Korea...   \n",
       "2020-06-16  On June 16, 2020, North Korea set off an explo...   \n",
       "\n",
       "                                                    Resources  \n",
       "Date                                                           \n",
       "2009-04-05  http://www.washingtonpost.com/wp-dyn/content/a...  \n",
       "2009-05-25  https://www.whitehouse.gov/the-press-office/st...  \n",
       "2009-05-26  http://www.mnd.go.kr/user/mnd_eng/upload/pblic...  \n",
       "2009-05-27  http://www.mnd.go.kr/user/mnd/upload/pblictn/P...  \n",
       "2009-05-29  http://www.mnd.go.kr/user/mnd_eng/upload/pblic...  \n",
       "...                                                       ...  \n",
       "2020-03-02  https://en.yna.co.kr/view/AEN20200302005254325...  \n",
       "2020-03-06     https://en.yna.co.kr/view/AEN20200309000455325  \n",
       "2020-03-21  https://en.yna.co.kr/view/AEN20200321000454325...  \n",
       "2020-04-14  https://en.yna.co.kr/view/AEN20200414006452325...  \n",
       "2020-06-16  https://en.yna.co.kr/view/AEN20200616008253325...  \n",
       "\n",
       "[126 rows x 4 columns]"
      ]
     },
     "execution_count": 22,
     "metadata": {},
     "output_type": "execute_result"
    }
   ],
   "source": [
    "df = pd.read_csv(\"/Users/jaewanpark/Desktop/Provocations.csv\", parse_dates=['Date']).set_index('Date')\n",
    "df"
   ]
  },
  {
   "cell_type": "code",
   "execution_count": 23,
   "metadata": {},
   "outputs": [
    {
     "name": "stdout",
     "output_type": "stream",
     "text": [
      "<class 'pandas.core.frame.DataFrame'>\n",
      "DatetimeIndex: 126 entries, 2009-04-05 to 2020-06-16\n",
      "Data columns (total 4 columns):\n",
      " #   Column       Non-Null Count  Dtype \n",
      "---  ------       --------------  ----- \n",
      " 0   Type         126 non-null    object\n",
      " 1   Event        126 non-null    object\n",
      " 2   Description  126 non-null    object\n",
      " 3   Resources    124 non-null    object\n",
      "dtypes: object(4)\n",
      "memory usage: 4.9+ KB\n"
     ]
    }
   ],
   "source": [
    "# 각 열의 정보\n",
    "df.info()"
   ]
  },
  {
   "cell_type": "code",
   "execution_count": 24,
   "metadata": {},
   "outputs": [],
   "source": [
    "df2 = df.copy()\n",
    "df3 = df2.drop(columns= ['Type', 'Description', 'Resources'])"
   ]
  },
  {
   "cell_type": "code",
   "execution_count": 25,
   "metadata": {},
   "outputs": [
    {
     "data": {
      "text/html": [
       "<div>\n",
       "<style scoped>\n",
       "    .dataframe tbody tr th:only-of-type {\n",
       "        vertical-align: middle;\n",
       "    }\n",
       "\n",
       "    .dataframe tbody tr th {\n",
       "        vertical-align: top;\n",
       "    }\n",
       "\n",
       "    .dataframe thead th {\n",
       "        text-align: right;\n",
       "    }\n",
       "</style>\n",
       "<table border=\"1\" class=\"dataframe\">\n",
       "  <thead>\n",
       "    <tr style=\"text-align: right;\">\n",
       "      <th></th>\n",
       "      <th>Event</th>\n",
       "    </tr>\n",
       "    <tr>\n",
       "      <th>Date</th>\n",
       "      <th></th>\n",
       "    </tr>\n",
       "  </thead>\n",
       "  <tbody>\n",
       "    <tr>\n",
       "      <th>2009-04-05</th>\n",
       "      <td>Satellite Launch (Other Provocation)</td>\n",
       "    </tr>\n",
       "    <tr>\n",
       "      <th>2009-05-25</th>\n",
       "      <td>Nuclear Test / Short-range missile launch</td>\n",
       "    </tr>\n",
       "    <tr>\n",
       "      <th>2009-05-26</th>\n",
       "      <td>Short-range Missile Launch</td>\n",
       "    </tr>\n",
       "    <tr>\n",
       "      <th>2009-05-27</th>\n",
       "      <td>Short-range Missile Launch</td>\n",
       "    </tr>\n",
       "    <tr>\n",
       "      <th>2009-05-29</th>\n",
       "      <td>Short-range Missile Launch</td>\n",
       "    </tr>\n",
       "    <tr>\n",
       "      <th>...</th>\n",
       "      <td>...</td>\n",
       "    </tr>\n",
       "    <tr>\n",
       "      <th>2020-03-02</th>\n",
       "      <td>Short-range Missile Launch</td>\n",
       "    </tr>\n",
       "    <tr>\n",
       "      <th>2020-03-06</th>\n",
       "      <td>Short-range Missile Launch</td>\n",
       "    </tr>\n",
       "    <tr>\n",
       "      <th>2020-03-21</th>\n",
       "      <td>Short-range Missile Launch</td>\n",
       "    </tr>\n",
       "    <tr>\n",
       "      <th>2020-04-14</th>\n",
       "      <td>Short-range Missile Launch</td>\n",
       "    </tr>\n",
       "    <tr>\n",
       "      <th>2020-06-16</th>\n",
       "      <td>Explosion at inter-Korean joint liaison office</td>\n",
       "    </tr>\n",
       "  </tbody>\n",
       "</table>\n",
       "<p>126 rows × 1 columns</p>\n",
       "</div>"
      ],
      "text/plain": [
       "                                                     Event\n",
       "Date                                                      \n",
       "2009-04-05            Satellite Launch (Other Provocation)\n",
       "2009-05-25       Nuclear Test / Short-range missile launch\n",
       "2009-05-26                      Short-range Missile Launch\n",
       "2009-05-27                      Short-range Missile Launch\n",
       "2009-05-29                      Short-range Missile Launch\n",
       "...                                                    ...\n",
       "2020-03-02                      Short-range Missile Launch\n",
       "2020-03-06                      Short-range Missile Launch\n",
       "2020-03-21                      Short-range Missile Launch\n",
       "2020-04-14                      Short-range Missile Launch\n",
       "2020-06-16  Explosion at inter-Korean joint liaison office\n",
       "\n",
       "[126 rows x 1 columns]"
      ]
     },
     "execution_count": 25,
     "metadata": {},
     "output_type": "execute_result"
    }
   ],
   "source": [
    "df3"
   ]
  },
  {
   "cell_type": "code",
   "execution_count": 26,
   "metadata": {},
   "outputs": [],
   "source": [
    "df3.index = pd.to_datetime(df3.index)"
   ]
  },
  {
   "cell_type": "code",
   "execution_count": 27,
   "metadata": {},
   "outputs": [],
   "source": [
    "# df3['Date'] = pd.to_datetime(df3['Date'], errors='coerce')"
   ]
  },
  {
   "cell_type": "code",
   "execution_count": 28,
   "metadata": {},
   "outputs": [],
   "source": [
    "df3['Count'] = 1"
   ]
  },
  {
   "cell_type": "code",
   "execution_count": 29,
   "metadata": {},
   "outputs": [
    {
     "data": {
      "text/html": [
       "<div>\n",
       "<style scoped>\n",
       "    .dataframe tbody tr th:only-of-type {\n",
       "        vertical-align: middle;\n",
       "    }\n",
       "\n",
       "    .dataframe tbody tr th {\n",
       "        vertical-align: top;\n",
       "    }\n",
       "\n",
       "    .dataframe thead th {\n",
       "        text-align: right;\n",
       "    }\n",
       "</style>\n",
       "<table border=\"1\" class=\"dataframe\">\n",
       "  <thead>\n",
       "    <tr style=\"text-align: right;\">\n",
       "      <th></th>\n",
       "      <th>Event</th>\n",
       "      <th>Count</th>\n",
       "    </tr>\n",
       "    <tr>\n",
       "      <th>Date</th>\n",
       "      <th></th>\n",
       "      <th></th>\n",
       "    </tr>\n",
       "  </thead>\n",
       "  <tbody>\n",
       "    <tr>\n",
       "      <th>2009-04-05</th>\n",
       "      <td>Satellite Launch (Other Provocation)</td>\n",
       "      <td>1</td>\n",
       "    </tr>\n",
       "    <tr>\n",
       "      <th>2009-05-25</th>\n",
       "      <td>Nuclear Test / Short-range missile launch</td>\n",
       "      <td>1</td>\n",
       "    </tr>\n",
       "    <tr>\n",
       "      <th>2009-05-26</th>\n",
       "      <td>Short-range Missile Launch</td>\n",
       "      <td>1</td>\n",
       "    </tr>\n",
       "    <tr>\n",
       "      <th>2009-05-27</th>\n",
       "      <td>Short-range Missile Launch</td>\n",
       "      <td>1</td>\n",
       "    </tr>\n",
       "    <tr>\n",
       "      <th>2009-05-29</th>\n",
       "      <td>Short-range Missile Launch</td>\n",
       "      <td>1</td>\n",
       "    </tr>\n",
       "    <tr>\n",
       "      <th>...</th>\n",
       "      <td>...</td>\n",
       "      <td>...</td>\n",
       "    </tr>\n",
       "    <tr>\n",
       "      <th>2020-03-02</th>\n",
       "      <td>Short-range Missile Launch</td>\n",
       "      <td>1</td>\n",
       "    </tr>\n",
       "    <tr>\n",
       "      <th>2020-03-06</th>\n",
       "      <td>Short-range Missile Launch</td>\n",
       "      <td>1</td>\n",
       "    </tr>\n",
       "    <tr>\n",
       "      <th>2020-03-21</th>\n",
       "      <td>Short-range Missile Launch</td>\n",
       "      <td>1</td>\n",
       "    </tr>\n",
       "    <tr>\n",
       "      <th>2020-04-14</th>\n",
       "      <td>Short-range Missile Launch</td>\n",
       "      <td>1</td>\n",
       "    </tr>\n",
       "    <tr>\n",
       "      <th>2020-06-16</th>\n",
       "      <td>Explosion at inter-Korean joint liaison office</td>\n",
       "      <td>1</td>\n",
       "    </tr>\n",
       "  </tbody>\n",
       "</table>\n",
       "<p>126 rows × 2 columns</p>\n",
       "</div>"
      ],
      "text/plain": [
       "                                                     Event  Count\n",
       "Date                                                             \n",
       "2009-04-05            Satellite Launch (Other Provocation)      1\n",
       "2009-05-25       Nuclear Test / Short-range missile launch      1\n",
       "2009-05-26                      Short-range Missile Launch      1\n",
       "2009-05-27                      Short-range Missile Launch      1\n",
       "2009-05-29                      Short-range Missile Launch      1\n",
       "...                                                    ...    ...\n",
       "2020-03-02                      Short-range Missile Launch      1\n",
       "2020-03-06                      Short-range Missile Launch      1\n",
       "2020-03-21                      Short-range Missile Launch      1\n",
       "2020-04-14                      Short-range Missile Launch      1\n",
       "2020-06-16  Explosion at inter-Korean joint liaison office      1\n",
       "\n",
       "[126 rows x 2 columns]"
      ]
     },
     "execution_count": 29,
     "metadata": {},
     "output_type": "execute_result"
    }
   ],
   "source": [
    "df3"
   ]
  },
  {
   "cell_type": "code",
   "execution_count": 30,
   "metadata": {},
   "outputs": [],
   "source": [
    "# df4 = df3.rename(columns = {'Date': 'datetime'}, inplace = False)"
   ]
  },
  {
   "cell_type": "code",
   "execution_count": 31,
   "metadata": {},
   "outputs": [],
   "source": [
    "df4 =df3.resample(\"Y\").sum()\n"
   ]
  },
  {
   "cell_type": "code",
   "execution_count": 33,
   "metadata": {},
   "outputs": [
    {
     "data": {
      "text/plain": [
       "<Figure size 1152x648 with 0 Axes>"
      ]
     },
     "metadata": {},
     "output_type": "display_data"
    },
    {
     "data": {
      "image/png": "[encoded data removed]",
      "text/plain": [
       "<Figure size 432x288 with 1 Axes>"
      ]
     },
     "metadata": {
      "needs_background": "light"
     },
     "output_type": "display_data"
    }
   ],
   "source": [
    "plt.figure(figsize=(16, 9))\n",
    "df5 = df4.reset_index().plot(x = 'Date' , y = 'Count', color='b')\n",
    "plt.title('Obama VS Trump')\n",
    "plt.xlabel('Date')\n",
    "plt.ylabel('Number of Provocations')\n",
    "plt.margins(x=1, y=0)\n",
    "plt.axvline(x='2017-12-31', ymin=0, ymax=1, color='c', linestyle='--')\n",
    "plt.savefig('/Users/jaewanpark/Desktop/c.jpeg')"
   ]
  },
  {
   "cell_type": "code",
   "execution_count": null,
   "metadata": {},
   "outputs": [],
   "source": [
    "from matplotlib.pyplot import figure\n",
    "figure(num=None, figsize=(8, 6), dpi=80, facecolor='w', edgecolor='k')"
   ]
  }
 ],
 "metadata": {
  "kernelspec": {
   "display_name": "Python 3",
   "language": "python",
   "name": "python3"
  },
  "language_info": {
   "codemirror_mode": {
    "name": "ipython",
    "version": 3
   },
   "file_extension": ".py",
   "mimetype": "text/x-python",
   "name": "python",
   "nbconvert_exporter": "python",
   "pygments_lexer": "ipython3",
   "version": "3.7.6"
  }
 },
 "nbformat": 4,
 "nbformat_minor": 4
}
